{
 "cells": [
  {
   "cell_type": "code",
   "execution_count": 2,
   "metadata": {},
   "outputs": [],
   "source": [
    "import pandas as pd\n",
    "import os"
   ]
  },
  {
   "cell_type": "code",
   "execution_count": 37,
   "metadata": {},
   "outputs": [],
   "source": [
    "dateid = \"202311\"\n",
    "basePath = r\"S:\\U_Proteomica\\UNIDAD\\Databases\\UniProt\"\n",
    "outPath = r\"S:\\U_Proteomica\\UNIDAD\\Softwares\\MacrosRafa\\data\\Metabolomics\\PESA_Integromics\\TestServer\\GSEA\\mydb\""
   ]
  },
  {
   "cell_type": "code",
   "execution_count": 41,
   "metadata": {},
   "outputs": [],
   "source": [
    "og2scog = {\n",
    "    'chicken': 'Gallus_gallus',\n",
    " 'cow': 'Bos_taurus',\n",
    " 'human': 'Homo_sapiens',\n",
    " 'mouse': 'Mus_musculus',\n",
    " 'pig': 'Sus_scrofa',\n",
    " 'rabbit': 'Oryctolagus_cuniculus',\n",
    " 'rat': 'Rattus_norvegicus',\n",
    " 'sheep': 'Ovis_aries',\n",
    " 'zebrafish': 'Danio_rerio',\n",
    " 'ecoli': 'Escherichia coli'\n",
    "}"
   ]
  },
  {
   "cell_type": "code",
   "execution_count": 42,
   "metadata": {},
   "outputs": [],
   "source": [
    "for og in os.listdir(os.path.join(basePath, dateid)):\n",
    "\n",
    "    df = pd.read_csv(\n",
    "        os.path.join(basePath, dateid, og, \"categories\", f\"g2c__{og}_{dateid}.kegg.tsv\"),\n",
    "        sep='\\t'\n",
    "        )\n",
    "\n",
    "    gmt = '\\n'.join([\n",
    "        i.replace('>', '\\t')+\"\\t\" + j \n",
    "        for i,j in list(zip(*list(\n",
    "            df.groupby('Categories').agg('\\t'.join).reset_index().to_dict('list').values()\n",
    "        )))\n",
    "    ])\n",
    "\n",
    "    if not os.path.exists(os.path.join(outPath, dateid, og2scog[og])):\n",
    "        os.makedirs(os.path.join(outPath, dateid, og2scog[og]))\n",
    "\n",
    "    f = open(os.path.join(outPath, dateid, og2scog[og], f\"kegg.gmt\"), \"w\")\n",
    "    f.write(gmt)\n",
    "    f.close()"
   ]
  }
 ],
 "metadata": {
  "kernelspec": {
   "display_name": "Python 3",
   "language": "python",
   "name": "python3"
  },
  "language_info": {
   "codemirror_mode": {
    "name": "ipython",
    "version": 3
   },
   "file_extension": ".py",
   "mimetype": "text/x-python",
   "name": "python",
   "nbconvert_exporter": "python",
   "pygments_lexer": "ipython3",
   "version": "3.10.4"
  }
 },
 "nbformat": 4,
 "nbformat_minor": 2
}
